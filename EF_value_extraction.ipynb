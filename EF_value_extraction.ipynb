{
 "cells": [
  {
   "cell_type": "markdown",
   "metadata": {},
   "source": [
    "## Writeup\n",
    "100% LVEF extraction accuracy against human labeled data on a random sample of 100 echo notes using several rules:\n",
    "1. preprocess and tokenize text\n",
    "1. search for matches of ['LVEF', 'EF', 'ejection fraction'] in the cleaned tokens\n",
    "1. for each match, take the two tokens preceeding the match and the three words proceeeding the match\n",
    "1. return the first token containing a numeric character"
   ]
  },
  {
   "cell_type": "code",
   "execution_count": 1,
   "metadata": {},
   "outputs": [],
   "source": [
    "import pandas as pd\n",
    "import numpy as np\n",
    "import re\n",
    "from nltk.tokenize import RegexpTokenizer"
   ]
  },
  {
   "cell_type": "code",
   "execution_count": 2,
   "metadata": {},
   "outputs": [],
   "source": [
    "tokenizer = RegexpTokenizer(r'\\w+')\n",
    "value_descriptions = ['LVEF', 'EF', 'ejection fraction']"
   ]
  },
  {
   "cell_type": "code",
   "execution_count": 3,
   "metadata": {},
   "outputs": [],
   "source": [
    "df = pd.read_csv('mimiciii_noteevents_random_100_annotated.csv')\n",
    "df.ef_value.replace('None', np.NaN, inplace=True)"
   ]
  },
  {
   "cell_type": "code",
   "execution_count": 4,
   "metadata": {},
   "outputs": [],
   "source": [
    "def preprocess(text):\n",
    "    \"\"\"Preprocess text for tokenization\"\"\"\n",
    "    # standardize symbols\n",
    "    text_to_symbols = {'percent': '%', 'equals': '='}\n",
    "    for symbol_word, symbol in text_to_symbols.items():\n",
    "        text = text.replace(symbol_word, symbol)\n",
    "\n",
    "    # add whitespace before junk tokens to make sure they aren't included with extracted number\n",
    "    equality_signs = ['<', '>', '=']\n",
    "    for s in equality_signs:\n",
    "        text = text.replace(s, ' ' + s)\n",
    "\n",
    "    # add whitespace before junk tokens to make sure they aren't included with extracted number\n",
    "#     junk = [',', '.']\n",
    "    junk = [',']\n",
    "    for s in junk:\n",
    "        text = text.replace(s, ' ' + s)\n",
    "\n",
    "    # keep % sign with preceeding number\n",
    "    precede_pct = [' ', '\\n']\n",
    "    for s in precede_pct:\n",
    "        text = text.replace(s + '%', '%')\n",
    "\n",
    "    # remove parentheses\n",
    "    remove_strs = ['(', ')', '[', ']', '{', '}']\n",
    "    for s in remove_strs:\n",
    "        text = text.replace(s, '')\n",
    "\n",
    "    return text\n",
    "\n",
    "def endswithin(s, strs):\n",
    "    for x in strs:\n",
    "        if s.endswith(x):\n",
    "            return True\n",
    "    return False\n",
    "\n",
    "def get_aoi(tokens, value_descriptions):\n",
    "    \"\"\"Get areas of interest (lists of tokens) for descripions of tests `value_descriptions`.\"\"\"\n",
    "    aois = []\n",
    "    for i, token in enumerate(tokens):\n",
    "        for value_description in value_descriptions:\n",
    "            vd_tokens = tokenizer.tokenize(value_description)\n",
    "            if all(vd_token == tokens[i + j] for j, vd_token in enumerate(vd_tokens)):\n",
    "                aois.append(tokens[i - 1: i + len(vd_tokens) + 2])\n",
    "    return aois\n",
    "\n",
    "def contains_num(s):\n",
    "    \"\"\"Return True if string `s` contains a number\"\"\"\n",
    "    for c in s:\n",
    "        if c.isnumeric():\n",
    "            return True\n",
    "    else:\n",
    "        return False\n",
    "\n",
    "def aois_to_value(aois):\n",
    "    \"\"\"Extract the numeric value from aoi list (list of tokens) `aois`.\"\"\"\n",
    "    for aoi in aois:\n",
    "        for token in aoi:\n",
    "            # return the first token with a numeric character in it\n",
    "            if contains_num(token):\n",
    "                return token\n",
    "    return np.NaN\n",
    "\n",
    "def preprocess_token(text):\n",
    "    # remove trailing punctuation\n",
    "    tail_junk = ['.', ':', '=']\n",
    "    while endswithin(text, tail_junk):\n",
    "        text = text[:len(text) - 1]\n",
    "    return text\n",
    "\n",
    "def text_to_value(text):\n",
    "    \"\"\"Extract the numeric value from `text`.\"\"\"\n",
    "    text = preprocess(text)\n",
    "    tokens = [preprocess_token(token) for token in text.split()]\n",
    "    aois = get_aoi(tokens, value_descriptions)\n",
    "    return aois_to_value(aois)"
   ]
  },
  {
   "cell_type": "code",
   "execution_count": 5,
   "metadata": {},
   "outputs": [
    {
     "data": {
      "text/plain": [
       "'50-55%'"
      ]
     },
     "execution_count": 5,
     "metadata": {},
     "output_type": "execute_result"
    }
   ],
   "source": [
    "text_to_value('low normal (LVEF 50-55%). The')"
   ]
  },
  {
   "cell_type": "code",
   "execution_count": 6,
   "metadata": {},
   "outputs": [
    {
     "data": {
      "text/plain": [
       "'58.7%'"
      ]
     },
     "execution_count": 6,
     "metadata": {},
     "output_type": "execute_result"
    }
   ],
   "source": [
    "text_to_value('LVEF: 58.7 %  ')"
   ]
  },
  {
   "cell_type": "code",
   "execution_count": 7,
   "metadata": {},
   "outputs": [
    {
     "name": "stdout",
     "output_type": "stream",
     "text": [
      "100% of extracted values match human labels\n"
     ]
    }
   ],
   "source": [
    "# summarize accuracy (('Mimatched labels)\n",
    "df['extracted_lvef'] = df.text.map(text_to_value)\n",
    "df['extraction_matches_label'] = df.ef_value.fillna('') == df.extracted_lvef.fillna('')\n",
    "print('{:.0f}% of extracted values match human labels'.format(\n",
    "    df.extraction_matches_label.value_counts(normalize=True)[True] * 100))"
   ]
  },
  {
   "cell_type": "code",
   "execution_count": 8,
   "metadata": {
    "scrolled": false
   },
   "outputs": [
    {
     "name": "stdout",
     "output_type": "stream",
     "text": [
      "Mimatched labels (extracted vs human label)\n"
     ]
    }
   ],
   "source": [
    "# identify mismatches\n",
    "mismatches = df[['ef_value', 'extracted_lvef', 'text', 'row_id']][~df.extraction_matches_label]\n",
    "print('Mimatched labels (extracted vs human label)')\n",
    "for idx, mismatch in mismatches.iterrows():\n",
    "    print('[{}] extracted value {}, human label {}'\n",
    "          '\\n-----------------------------------------\\n\\n{}'\n",
    "          '\\n\\n----------------------------------------\\n'.format(\n",
    "        mismatch.row_id, mismatch.extracted_lvef, mismatch.ef_value, mismatch.text))"
   ]
  },
  {
   "cell_type": "markdown",
   "metadata": {},
   "source": [
    "### RWJ sample"
   ]
  },
  {
   "cell_type": "code",
   "execution_count": 9,
   "metadata": {},
   "outputs": [],
   "source": [
    "with open('nbi_xcel_res_deident.txt', 'r') as f:\n",
    "    rwj = f.readlines()"
   ]
  },
  {
   "cell_type": "code",
   "execution_count": 10,
   "metadata": {
    "scrolled": true
   },
   "outputs": [],
   "source": [
    "cells = [line.split('|') for line in rwj[3:]]\n",
    "txt_lines = [line[5] for line in cells if len(line) > 5]\n",
    "txt_lines = (txt_lines[:79], txt_lines[79:])\n",
    "txts = ['\\n'.join(t) for t in txt_lines]"
   ]
  },
  {
   "cell_type": "code",
   "execution_count": 11,
   "metadata": {
    "scrolled": false
   },
   "outputs": [
    {
     "name": "stdout",
     "output_type": "stream",
     "text": [
      "------------------------------------\n",
      "Extracted EF value: 56.5%\n",
      "\n",
      "                                             Newark Beth Israel\n",
      "                                               Medical Center\n",
      "                                            Cardiac Non-Invasive\n",
      "                                                 Laboratory\n",
      "                                               201 Lyons Ave\n",
      "                                             Newark, New Jersey\n",
      "                                                   07112\n",
      "                                          Phone: (973) 926-7476\n",
      "                    Transthoracic Echocardiogram Report\n",
      "____________________________________________________________________________\n",
      "\n",
      "Name: XERO, XENA C                Study Date: 03/20/2018 09:07 AM\n",
      "MRN: 763234                         Account #: 654321888\n",
      "DOB: 06/27/1950     Age: 67 yrs     Patient Status: Outpatient\n",
      "Gender: Female                      Referring Physician: Duck, Don, M.D.\n",
      "Height: 66 in       Weight: 161 lb  BSA: 1.8 m2\n",
      "                    BP: 125/68 mmHg\n",
      "\n",
      "____________________________________________________________________________\n",
      "Diagnostic Code: R01.1 Cardiac murmur- unspecified. R06.00 Dyspnea-\n",
      "unspecified.\n",
      "Procedure Code: (93307-26) COMPLETE 2-D MODE.\n",
      "\n",
      "____________________________________________________________________________\n",
      "Indication For Study: Cardiac transplant, Eval rejection\n",
      "Procedure Details: A complete 2-D/MMode/Doppler echocardiogram was\n",
      "performed. Diagnostically adequate study quality.\n",
      "\n",
      "2D/MMode and Doppler Measurements and calculations\n",
      "LA dimension:    (nl < 4.0 Ao root diam:   (nl < 4.0\n",
      "5.2 cm           cm)       2.6 cm          cm)\n",
      "IVSd: 1.5 cm(nl < 1.2 cm)  LVPWd:       (nl < 1.1\n",
      "                           1.5 cm       cm)\n",
      "LVIDd: 4.8 cm(nl < 5.6 cm) LVIDs: 3.3 cm\n",
      "LVEF: 56.5 %\n",
      "\n",
      "        ______________________________________\n",
      "MV E/A: 1.5       MV dec time: 0.19 sec\n",
      "E/E' lat: 6.1     Lat Peak E' Vel: 13.8 cm/sec\n",
      "E/E' med: 10.2    Med Peak E' Vel: 8.2 cm/sec\n",
      "\n",
      "        ______________________________________\n",
      "TR max vel: 235.6 cm/sec     RVSP(TR): 32.2 mmHg\n",
      "Aortic Valve/Aorta: There is focal, mild thickening of aortic valve.\n",
      "Mitral Valve: Mild focal thickening of Mitral valve leaflets with mild to\n",
      "moderate MR. Cannot r/o VP from this study, consider TEE if clinically\n",
      "indicated.\n",
      "Left Atrium/Atrial Septum/Pulmonary Veins: Left atrium appears mildly\n",
      "dilated.\n",
      "Left Ventricle: Moderate left ventricular hypertrophy. LV ejection fraction\n",
      "appears normal. No regional wall motion abnormality is noted. LV filling\n",
      "pattern is consistent with impaired relaxation..\n",
      "Right Ventricle: Right ventricular size and function appear normal.\n",
      "Right Atrium/Inferior Vena Cava/Hepatic Veins: Mildly dilated right atrium.\n",
      "\n",
      "Tricuspid Valve: Moderate tricuspid valve regurgitation by color Doppler.\n",
      "Pulmonic Valve/Pulmonary Artery: The valve is not optimally seen but\n",
      "appears normal.\n",
      "Pericardium: No pericardial effusion is noted.\n",
      "\n",
      "Interpretation Summary\n",
      "Mild focal thickening of Mitral valve leaflets with mild to moderate MR.\n",
      "Cannot r/o MVP from this study, consider TEE if clinically indicated.\n",
      "Moderate tricuspid valve regurgitation by color Doppler.\n",
      "Moderate left ventricular hypertrophy. LV ejection fraction appears normal.\n",
      "No regional wall motion abnormality is noted. LV filling pattern is\n",
      "consistent with impaired relaxation.\n",
      "Right ventricular size and function appear normal.\n",
      "\n",
      "____________________________________________________________________________\n",
      "\n",
      "                                      MD\n",
      "Interpreted and Electronically signed:Mouse03/27/2018Performed by:DOE\n",
      "                                      Mick 01:50 AM               JANE\n",
      "\n",
      "NBI\n",
      "ZERO^ZENA\n",
      "\n",
      "------------------------------------\n",
      "Extracted EF value: 58.7%\n",
      "\n",
      "                                          Newark Beth Israel Medical Center\n",
      "                                           Cardiac Non-Invasive Laboratory\n",
      "                                                    201 Lyons Ave\n",
      "                                               Newark, New Jersey 07112\n",
      "                                               Phone: (973) 926-7476\n",
      "                 Dobutamine Stress Echocardiography Report\n",
      "____________________________________________________________________________\n",
      "\n",
      "Name: ZERO, ZENA                Study Date: 03/27/2018 08:06 AM\n",
      "MRN: 123456                                   Account #: 234567890\n",
      "DOB: 10/25/1975                Age: 42 yrs    Patient Status: Emergency\n",
      "Gender: Female                                Referring Physician: Duck, Don, M.D.\n",
      "Height: 69 in                  Weight: 300 lb BSA: 2.5 m2\n",
      "                               BP: 130/85 mmHg\n",
      "\n",
      "____________________________________________________________________________\n",
      "Diagnostic Code: R07.89, I20.0.\n",
      "Procedure Code: (93350-26) STRESS ECHO. (93320-26) DOPPLER. (93325-26)\n",
      "COLOR DOPPLER. (93016) STRESS TEST, PHYSICIAN SUPERVISION. (93018) STRESS\n",
      "TEST, INTERPRETING AND REPORT.\n",
      "\n",
      "____________________________________________________________________________\n",
      "Indication For Study: Chest Pain Unspecified\n",
      "Patient History, Physical examination, procedure and performance 42 year\n",
      "old female. Atypical chest pain. Diabetes. Physical examination:. No acute\n",
      "distress. No JVD or peripheral edema. Cardiovascular: regular S1 and S2. No\n",
      "significant cardiac murmur. Lungs: clear, no rales. Dobutamine infusion\n",
      "starting with 5 mcg/kg/min with 5-10 mcg/kg/min increments every 3 minutes\n",
      "and up to 50 mcg/kg/min was given. Baseline Heart Rate: 66 bpm. The patient\n",
      "achieved a maximum heart rate of 151 bpm. 84 % of the maximum predicted\n",
      "heart rate was achieved. Baseline Blood pressure: 130/85 mmHg. Maximum BP\n",
      "of 159/73 mmHg. The test was stopped due to achievement of target heart\n",
      "rate/completion of the protocol. No chest pain during stress or recovery.\n",
      "2D/MMode and Doppler Measurements and calculations\n",
      "Ao root diam: 3.9 cm(2.1-3.5 cm)      LVIDd: 4.9 cm(3.9-5.3 cm)\n",
      "LVIDs: 3.3 cm(2.0-3.8 cm)\n",
      "LVEF: 58.7 %             MV dec time: 0.18 sec\n",
      "MV E/A: 1.5\n",
      "Resting and Stress EKG: Baseline EKG showed normal sinus rythm, RBBB, Non-\n",
      "specific ST-T wave changes. There is no significant ST-T changes with\n",
      "stress or at recovery.\n",
      "Resting Echocardiogram: Moderate LV hypertrophy with normal cavity size. LV\n",
      "ejection fraction appears to be 55-50 %. There is no regional wall motion\n",
      "abnormality at rest. Diastolic LV dysfunction with impaired\n",
      "relaxation/reduced compliance. Focal and mild thickening of the mitral\n",
      "valve. Trace MR. Limited evaluation of the right ventricle which appears to\n",
      "be mildly dilated and mildly hypokinetic. Recommend TTE for better\n",
      "evaluation.\n",
      "Stress Echo during incremental doses of dobutamine infusion: There are\n",
      "normal responses of enhanced wall motion and smaller LV cavity with\n",
      "low/high doses of dobutamine. LV ejection fraction is 80-85 % with stress.\n",
      "\n",
      "Interpretation Summary\n",
      "Normal submaximal dobutamine echocardiogram test without evidence of\n",
      "ischemia.\n",
      "\n",
      "Resting Echocardiogram: limited evaluation of the right ventricle which\n",
      "appears to be mildly dilated and mildly hypokinetic. Recommend complete\n",
      "echocardiogram for better evaluation.\n",
      "\n",
      "____________________________________________________________________________\n",
      "\n",
      "                         Mick                                 Jane\n",
      "Electronically signed by:Mouse,    03/27/2018 02:42 PM Performed by:Doe,\n",
      "                         M.D.                                      RCS\n",
      "\n"
     ]
    }
   ],
   "source": [
    "for t in txts:\n",
    "    print('------------------------------------\\nExtracted EF value: {}'.format(text_to_value(t)))\n",
    "    print(t)"
   ]
  }
 ],
 "metadata": {
  "kernelspec": {
   "display_name": "Python 3",
   "language": "python",
   "name": "python3"
  },
  "language_info": {
   "codemirror_mode": {
    "name": "ipython",
    "version": 3
   },
   "file_extension": ".py",
   "mimetype": "text/x-python",
   "name": "python",
   "nbconvert_exporter": "python",
   "pygments_lexer": "ipython3",
   "version": "3.6.2"
  }
 },
 "nbformat": 4,
 "nbformat_minor": 2
}
